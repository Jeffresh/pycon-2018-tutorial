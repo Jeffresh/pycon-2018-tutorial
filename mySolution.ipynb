{
 "cells": [
  {
   "cell_type": "code",
   "execution_count": 2,
   "metadata": {},
   "outputs": [
    {
     "data": {
      "text/html": "<div>\n<style scoped>\n    .dataframe tbody tr th:only-of-type {\n        vertical-align: middle;\n    }\n\n    .dataframe tbody tr th {\n        vertical-align: top;\n    }\n\n    .dataframe thead th {\n        text-align: right;\n    }\n</style>\n<table border=\"1\" class=\"dataframe\">\n  <thead>\n    <tr style=\"text-align: right;\">\n      <th></th>\n      <th>stop_date</th>\n      <th>stop_time</th>\n      <th>county_name</th>\n      <th>driver_gender</th>\n      <th>driver_age_raw</th>\n      <th>driver_age</th>\n      <th>driver_race</th>\n      <th>violation_raw</th>\n      <th>violation</th>\n      <th>search_conducted</th>\n      <th>search_type</th>\n      <th>stop_outcome</th>\n      <th>is_arrested</th>\n      <th>stop_duration</th>\n      <th>drugs_related_stop</th>\n    </tr>\n  </thead>\n  <tbody>\n    <tr>\n      <th>0</th>\n      <td>2005-01-02</td>\n      <td>01:55</td>\n      <td>NaN</td>\n      <td>M</td>\n      <td>1985.0</td>\n      <td>20.0</td>\n      <td>White</td>\n      <td>Speeding</td>\n      <td>Speeding</td>\n      <td>False</td>\n      <td>NaN</td>\n      <td>Citation</td>\n      <td>False</td>\n      <td>0-15 Min</td>\n      <td>False</td>\n    </tr>\n    <tr>\n      <th>1</th>\n      <td>2005-01-18</td>\n      <td>08:15</td>\n      <td>NaN</td>\n      <td>M</td>\n      <td>1965.0</td>\n      <td>40.0</td>\n      <td>White</td>\n      <td>Speeding</td>\n      <td>Speeding</td>\n      <td>False</td>\n      <td>NaN</td>\n      <td>Citation</td>\n      <td>False</td>\n      <td>0-15 Min</td>\n      <td>False</td>\n    </tr>\n    <tr>\n      <th>2</th>\n      <td>2005-01-23</td>\n      <td>23:15</td>\n      <td>NaN</td>\n      <td>M</td>\n      <td>1972.0</td>\n      <td>33.0</td>\n      <td>White</td>\n      <td>Speeding</td>\n      <td>Speeding</td>\n      <td>False</td>\n      <td>NaN</td>\n      <td>Citation</td>\n      <td>False</td>\n      <td>0-15 Min</td>\n      <td>False</td>\n    </tr>\n    <tr>\n      <th>3</th>\n      <td>2005-02-20</td>\n      <td>17:15</td>\n      <td>NaN</td>\n      <td>M</td>\n      <td>1986.0</td>\n      <td>19.0</td>\n      <td>White</td>\n      <td>Call for Service</td>\n      <td>Other</td>\n      <td>False</td>\n      <td>NaN</td>\n      <td>Arrest Driver</td>\n      <td>True</td>\n      <td>16-30 Min</td>\n      <td>False</td>\n    </tr>\n    <tr>\n      <th>4</th>\n      <td>2005-03-14</td>\n      <td>10:00</td>\n      <td>NaN</td>\n      <td>F</td>\n      <td>1984.0</td>\n      <td>21.0</td>\n      <td>White</td>\n      <td>Speeding</td>\n      <td>Speeding</td>\n      <td>False</td>\n      <td>NaN</td>\n      <td>Citation</td>\n      <td>False</td>\n      <td>0-15 Min</td>\n      <td>False</td>\n    </tr>\n  </tbody>\n</table>\n</div>",
      "text/plain": "    stop_date stop_time  county_name driver_gender  driver_age_raw  \\\n0  2005-01-02     01:55          NaN             M          1985.0   \n1  2005-01-18     08:15          NaN             M          1965.0   \n2  2005-01-23     23:15          NaN             M          1972.0   \n3  2005-02-20     17:15          NaN             M          1986.0   \n4  2005-03-14     10:00          NaN             F          1984.0   \n\n   driver_age driver_race     violation_raw violation  search_conducted  \\\n0        20.0       White          Speeding  Speeding             False   \n1        40.0       White          Speeding  Speeding             False   \n2        33.0       White          Speeding  Speeding             False   \n3        19.0       White  Call for Service     Other             False   \n4        21.0       White          Speeding  Speeding             False   \n\n  search_type   stop_outcome is_arrested stop_duration  drugs_related_stop  \n0         NaN       Citation       False      0-15 Min               False  \n1         NaN       Citation       False      0-15 Min               False  \n2         NaN       Citation       False      0-15 Min               False  \n3         NaN  Arrest Driver        True     16-30 Min               False  \n4         NaN       Citation       False      0-15 Min               False  "
     },
     "execution_count": 2,
     "metadata": {},
     "output_type": "execute_result"
    }
   ],
   "source": [
    "import pandas as pd\n",
    "pd.__version__\n",
    "\n",
    "import matplotlib.pyplot as plt\n",
    "%matplotlib inline\n",
    "\n",
    "# ri stands for Rhode Island\n",
    "ri = pd.read_csv('police.csv')\n",
    "ri.head()"
   ]
  },
  {
   "cell_type": "markdown",
   "metadata": {},
   "source": [
    "# 1. Remove the column that only contains missing values"
   ]
  },
  {
   "cell_type": "code",
   "execution_count": 3,
   "metadata": {},
   "outputs": [
    {
     "data": {
      "text/plain": "stop_date             0.000000\nstop_time             0.000000\ncounty_name           1.000000\ndriver_gender         0.058153\ndriver_age_raw        0.058066\ndriver_age            0.061270\ndriver_race           0.058131\nviolation_raw         0.058131\nviolation             0.058131\nsearch_conducted      0.000000\nsearch_type           0.965163\nstop_outcome          0.058131\nis_arrested           0.058131\nstop_duration         0.058131\ndrugs_related_stop    0.000000\ndtype: float64"
     },
     "execution_count": 3,
     "metadata": {},
     "output_type": "execute_result"
    }
   ],
   "source": [
    "ri.isnull().mean()"
   ]
  },
  {
   "cell_type": "code",
   "execution_count": 4,
   "metadata": {},
   "outputs": [
    {
     "data": {
      "text/html": "<div>\n<style scoped>\n    .dataframe tbody tr th:only-of-type {\n        vertical-align: middle;\n    }\n\n    .dataframe tbody tr th {\n        vertical-align: top;\n    }\n\n    .dataframe thead th {\n        text-align: right;\n    }\n</style>\n<table border=\"1\" class=\"dataframe\">\n  <thead>\n    <tr style=\"text-align: right;\">\n      <th></th>\n      <th>stop_date</th>\n      <th>stop_time</th>\n      <th>driver_gender</th>\n      <th>driver_age_raw</th>\n      <th>driver_age</th>\n      <th>driver_race</th>\n      <th>violation_raw</th>\n      <th>violation</th>\n      <th>search_conducted</th>\n      <th>search_type</th>\n      <th>stop_outcome</th>\n      <th>is_arrested</th>\n      <th>stop_duration</th>\n      <th>drugs_related_stop</th>\n    </tr>\n  </thead>\n  <tbody>\n    <tr>\n      <th>0</th>\n      <td>2005-01-02</td>\n      <td>01:55</td>\n      <td>M</td>\n      <td>1985.0</td>\n      <td>20.0</td>\n      <td>White</td>\n      <td>Speeding</td>\n      <td>Speeding</td>\n      <td>False</td>\n      <td>NaN</td>\n      <td>Citation</td>\n      <td>False</td>\n      <td>0-15 Min</td>\n      <td>False</td>\n    </tr>\n    <tr>\n      <th>1</th>\n      <td>2005-01-18</td>\n      <td>08:15</td>\n      <td>M</td>\n      <td>1965.0</td>\n      <td>40.0</td>\n      <td>White</td>\n      <td>Speeding</td>\n      <td>Speeding</td>\n      <td>False</td>\n      <td>NaN</td>\n      <td>Citation</td>\n      <td>False</td>\n      <td>0-15 Min</td>\n      <td>False</td>\n    </tr>\n    <tr>\n      <th>2</th>\n      <td>2005-01-23</td>\n      <td>23:15</td>\n      <td>M</td>\n      <td>1972.0</td>\n      <td>33.0</td>\n      <td>White</td>\n      <td>Speeding</td>\n      <td>Speeding</td>\n      <td>False</td>\n      <td>NaN</td>\n      <td>Citation</td>\n      <td>False</td>\n      <td>0-15 Min</td>\n      <td>False</td>\n    </tr>\n    <tr>\n      <th>3</th>\n      <td>2005-02-20</td>\n      <td>17:15</td>\n      <td>M</td>\n      <td>1986.0</td>\n      <td>19.0</td>\n      <td>White</td>\n      <td>Call for Service</td>\n      <td>Other</td>\n      <td>False</td>\n      <td>NaN</td>\n      <td>Arrest Driver</td>\n      <td>True</td>\n      <td>16-30 Min</td>\n      <td>False</td>\n    </tr>\n    <tr>\n      <th>4</th>\n      <td>2005-03-14</td>\n      <td>10:00</td>\n      <td>F</td>\n      <td>1984.0</td>\n      <td>21.0</td>\n      <td>White</td>\n      <td>Speeding</td>\n      <td>Speeding</td>\n      <td>False</td>\n      <td>NaN</td>\n      <td>Citation</td>\n      <td>False</td>\n      <td>0-15 Min</td>\n      <td>False</td>\n    </tr>\n    <tr>\n      <th>...</th>\n      <td>...</td>\n      <td>...</td>\n      <td>...</td>\n      <td>...</td>\n      <td>...</td>\n      <td>...</td>\n      <td>...</td>\n      <td>...</td>\n      <td>...</td>\n      <td>...</td>\n      <td>...</td>\n      <td>...</td>\n      <td>...</td>\n      <td>...</td>\n    </tr>\n    <tr>\n      <th>91736</th>\n      <td>2015-12-31</td>\n      <td>20:27</td>\n      <td>M</td>\n      <td>1986.0</td>\n      <td>29.0</td>\n      <td>White</td>\n      <td>Speeding</td>\n      <td>Speeding</td>\n      <td>False</td>\n      <td>NaN</td>\n      <td>Warning</td>\n      <td>False</td>\n      <td>0-15 Min</td>\n      <td>False</td>\n    </tr>\n    <tr>\n      <th>91737</th>\n      <td>2015-12-31</td>\n      <td>20:35</td>\n      <td>F</td>\n      <td>1982.0</td>\n      <td>33.0</td>\n      <td>White</td>\n      <td>Equipment/Inspection Violation</td>\n      <td>Equipment</td>\n      <td>False</td>\n      <td>NaN</td>\n      <td>Warning</td>\n      <td>False</td>\n      <td>0-15 Min</td>\n      <td>False</td>\n    </tr>\n    <tr>\n      <th>91738</th>\n      <td>2015-12-31</td>\n      <td>20:45</td>\n      <td>M</td>\n      <td>1992.0</td>\n      <td>23.0</td>\n      <td>White</td>\n      <td>Other Traffic Violation</td>\n      <td>Moving violation</td>\n      <td>False</td>\n      <td>NaN</td>\n      <td>Warning</td>\n      <td>False</td>\n      <td>0-15 Min</td>\n      <td>False</td>\n    </tr>\n    <tr>\n      <th>91739</th>\n      <td>2015-12-31</td>\n      <td>21:42</td>\n      <td>M</td>\n      <td>1993.0</td>\n      <td>22.0</td>\n      <td>White</td>\n      <td>Speeding</td>\n      <td>Speeding</td>\n      <td>False</td>\n      <td>NaN</td>\n      <td>Citation</td>\n      <td>False</td>\n      <td>0-15 Min</td>\n      <td>False</td>\n    </tr>\n    <tr>\n      <th>91740</th>\n      <td>2015-12-31</td>\n      <td>22:46</td>\n      <td>M</td>\n      <td>1959.0</td>\n      <td>56.0</td>\n      <td>Hispanic</td>\n      <td>Speeding</td>\n      <td>Speeding</td>\n      <td>False</td>\n      <td>NaN</td>\n      <td>Citation</td>\n      <td>False</td>\n      <td>0-15 Min</td>\n      <td>False</td>\n    </tr>\n  </tbody>\n</table>\n<p>91741 rows × 14 columns</p>\n</div>",
      "text/plain": "        stop_date stop_time driver_gender  driver_age_raw  driver_age  \\\n0      2005-01-02     01:55             M          1985.0        20.0   \n1      2005-01-18     08:15             M          1965.0        40.0   \n2      2005-01-23     23:15             M          1972.0        33.0   \n3      2005-02-20     17:15             M          1986.0        19.0   \n4      2005-03-14     10:00             F          1984.0        21.0   \n...           ...       ...           ...             ...         ...   \n91736  2015-12-31     20:27             M          1986.0        29.0   \n91737  2015-12-31     20:35             F          1982.0        33.0   \n91738  2015-12-31     20:45             M          1992.0        23.0   \n91739  2015-12-31     21:42             M          1993.0        22.0   \n91740  2015-12-31     22:46             M          1959.0        56.0   \n\n      driver_race                   violation_raw         violation  \\\n0           White                        Speeding          Speeding   \n1           White                        Speeding          Speeding   \n2           White                        Speeding          Speeding   \n3           White                Call for Service             Other   \n4           White                        Speeding          Speeding   \n...           ...                             ...               ...   \n91736       White                        Speeding          Speeding   \n91737       White  Equipment/Inspection Violation         Equipment   \n91738       White         Other Traffic Violation  Moving violation   \n91739       White                        Speeding          Speeding   \n91740    Hispanic                        Speeding          Speeding   \n\n       search_conducted search_type   stop_outcome is_arrested stop_duration  \\\n0                 False         NaN       Citation       False      0-15 Min   \n1                 False         NaN       Citation       False      0-15 Min   \n2                 False         NaN       Citation       False      0-15 Min   \n3                 False         NaN  Arrest Driver        True     16-30 Min   \n4                 False         NaN       Citation       False      0-15 Min   \n...                 ...         ...            ...         ...           ...   \n91736             False         NaN        Warning       False      0-15 Min   \n91737             False         NaN        Warning       False      0-15 Min   \n91738             False         NaN        Warning       False      0-15 Min   \n91739             False         NaN       Citation       False      0-15 Min   \n91740             False         NaN       Citation       False      0-15 Min   \n\n       drugs_related_stop  \n0                   False  \n1                   False  \n2                   False  \n3                   False  \n4                   False  \n...                   ...  \n91736               False  \n91737               False  \n91738               False  \n91739               False  \n91740               False  \n\n[91741 rows x 14 columns]"
     },
     "execution_count": 4,
     "metadata": {},
     "output_type": "execute_result"
    }
   ],
   "source": [
    "ri.drop('county_name', axis=1)"
   ]
  },
  {
   "cell_type": "markdown",
   "metadata": {},
   "source": [
    "## 1.1 Remove all columns with all values as Nulls"
   ]
  },
  {
   "cell_type": "code",
   "execution_count": 5,
   "metadata": {},
   "outputs": [],
   "source": [
    "ri.dropna(axis=1, how='all', inplace=True)"
   ]
  },
  {
   "cell_type": "markdown",
   "metadata": {},
   "source": [
    "## 2.1 Do men or women speed more often?"
   ]
  },
  {
   "cell_type": "code",
   "execution_count": 6,
   "metadata": {},
   "outputs": [
    {
     "data": {
      "text/plain": "Index(['stop_date', 'stop_time', 'driver_gender', 'driver_age_raw',\n       'driver_age', 'driver_race', 'violation_raw', 'violation',\n       'search_conducted', 'search_type', 'stop_outcome', 'is_arrested',\n       'stop_duration', 'drugs_related_stop'],\n      dtype='object')"
     },
     "execution_count": 6,
     "metadata": {},
     "output_type": "execute_result"
    }
   ],
   "source": [
    "ri.columns"
   ]
  },
  {
   "cell_type": "code",
   "execution_count": 9,
   "metadata": {},
   "outputs": [
    {
     "name": "stdout",
     "output_type": "stream",
     "text": [
      "['Speeding' 'Other' 'Equipment' 'Moving violation' nan\n",
      " 'Registration/plates' 'Seat belt']\n",
      "['M' 'F' nan]\n"
     ]
    }
   ],
   "source": [
    "print(ri['violation'].unique())\n",
    "print(ri['driver_gender'].unique())"
   ]
  },
  {
   "cell_type": "code",
   "execution_count": 42,
   "metadata": {},
   "outputs": [
    {
     "data": {
      "text/plain": "driver_gender\nF    0.65850\nM    0.52435\nName: violation, dtype: float64"
     },
     "execution_count": 42,
     "metadata": {},
     "output_type": "execute_result"
    }
   ],
   "source": [
    "ri.groupby('driver_gender')['violation'].value_counts(normalize=True).loc[:, 'Speeding']"
   ]
  },
  {
   "cell_type": "code",
   "execution_count": null,
   "metadata": {},
   "outputs": [],
   "source": []
  }
 ],
 "metadata": {
  "kernelspec": {
   "display_name": "Python 3.8.6  ('.env': venv)",
   "name": "pythonjvsc74a57bd06b3d8fded84b82a84dd06aec3772984b6fd7683755c4932dae62599619bfeba9"
  },
  "language_info": {
   "codemirror_mode": {
    "name": "ipython",
    "version": 3
   },
   "file_extension": ".py",
   "mimetype": "text/x-python",
   "name": "python",
   "nbconvert_exporter": "python",
   "pygments_lexer": "ipython3",
   "version": "3.8.9"
  },
  "metadata": {
   "interpreter": {
    "hash": "6b3d8fded84b82a84dd06aec3772984b6fd7683755c4932dae62599619bfeba9"
   }
  },
  "orig_nbformat": 2
 },
 "nbformat": 4,
 "nbformat_minor": 2
}